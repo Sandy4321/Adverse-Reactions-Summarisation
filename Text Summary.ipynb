{
 "cells": [
  {
   "cell_type": "code",
   "execution_count": null,
   "metadata": {},
   "outputs": [],
   "source": []
  },
  {
   "cell_type": "code",
   "execution_count": 32,
   "metadata": {},
   "outputs": [
    {
     "name": "stderr",
     "output_type": "stream",
     "text": [
      "[nltk_data] Downloading package punkt to\n",
      "[nltk_data]     C:\\Users\\holla\\AppData\\Roaming\\nltk_data...\n",
      "[nltk_data]   Package punkt is already up-to-date!\n"
     ]
    },
    {
     "ename": "ModuleNotFoundError",
     "evalue": "No module named 'gensim'",
     "output_type": "error",
     "traceback": [
      "\u001b[1;31m---------------------------------------------------------------------------\u001b[0m",
      "\u001b[1;31mModuleNotFoundError\u001b[0m                       Traceback (most recent call last)",
      "\u001b[1;32m<ipython-input-32-8259d6624e49>\u001b[0m in \u001b[0;36m<module>\u001b[1;34m\u001b[0m\n\u001b[0;32m      6\u001b[0m \u001b[1;32mfrom\u001b[0m \u001b[0mnltk\u001b[0m\u001b[1;33m.\u001b[0m\u001b[0mtokenize\u001b[0m \u001b[1;32mimport\u001b[0m \u001b[0msent_tokenize\u001b[0m\u001b[1;33m\u001b[0m\u001b[1;33m\u001b[0m\u001b[0m\n\u001b[0;32m      7\u001b[0m \u001b[1;32mfrom\u001b[0m \u001b[0mnltk\u001b[0m\u001b[1;33m.\u001b[0m\u001b[0mcorpus\u001b[0m \u001b[1;32mimport\u001b[0m \u001b[0mstopwords\u001b[0m\u001b[1;33m\u001b[0m\u001b[1;33m\u001b[0m\u001b[0m\n\u001b[1;32m----> 8\u001b[1;33m \u001b[1;32mfrom\u001b[0m \u001b[0mgensim\u001b[0m\u001b[1;33m.\u001b[0m\u001b[0mmodels\u001b[0m \u001b[1;32mimport\u001b[0m \u001b[0mWord2Vec\u001b[0m\u001b[1;33m\u001b[0m\u001b[1;33m\u001b[0m\u001b[0m\n\u001b[0m\u001b[0;32m      9\u001b[0m \u001b[1;32mfrom\u001b[0m \u001b[0mscipy\u001b[0m \u001b[1;32mimport\u001b[0m \u001b[0mspatial\u001b[0m\u001b[1;33m\u001b[0m\u001b[1;33m\u001b[0m\u001b[0m\n\u001b[0;32m     10\u001b[0m \u001b[1;32mimport\u001b[0m \u001b[0mnetworkx\u001b[0m \u001b[1;32mas\u001b[0m \u001b[0mnx\u001b[0m\u001b[1;33m\u001b[0m\u001b[1;33m\u001b[0m\u001b[0m\n",
      "\u001b[1;31mModuleNotFoundError\u001b[0m: No module named 'gensim'"
     ]
    }
   ],
   "source": [
    "import numpy as np\n",
    "import pandas as pd\n",
    "import re\n",
    "import nltk\n",
    "nltk.download('punkt')\n",
    "from nltk.tokenize import sent_tokenize\n",
    "from nltk.corpus import stopwords\n",
    "from gensim.models import Word2Vec\n",
    "from scipy import spatial\n",
    "import networkx as nx"
   ]
  },
  {
   "cell_type": "code",
   "execution_count": null,
   "metadata": {},
   "outputs": [],
   "source": [
    "!conda install -c anaconda gensim"
   ]
  },
  {
   "cell_type": "code",
   "execution_count": 2,
   "metadata": {},
   "outputs": [],
   "source": [
    "df = pd.read_csv('assignment_data.csv')"
   ]
  },
  {
   "cell_type": "code",
   "execution_count": 3,
   "metadata": {},
   "outputs": [
    {
     "data": {
      "text/html": [
       "<div>\n",
       "<style scoped>\n",
       "    .dataframe tbody tr th:only-of-type {\n",
       "        vertical-align: middle;\n",
       "    }\n",
       "\n",
       "    .dataframe tbody tr th {\n",
       "        vertical-align: top;\n",
       "    }\n",
       "\n",
       "    .dataframe thead th {\n",
       "        text-align: right;\n",
       "    }\n",
       "</style>\n",
       "<table border=\"1\" class=\"dataframe\">\n",
       "  <thead>\n",
       "    <tr style=\"text-align: right;\">\n",
       "      <th></th>\n",
       "      <th>SetID</th>\n",
       "      <th>Adverse Reactions</th>\n",
       "      <th>Summary</th>\n",
       "    </tr>\n",
       "  </thead>\n",
       "  <tbody>\n",
       "    <tr>\n",
       "      <th>0</th>\n",
       "      <td>a834d1cf-72fc-93bf-e053-2995a90a6191</td>\n",
       "      <td>The following adverse events were observed and...</td>\n",
       "      <td>NaN</td>\n",
       "    </tr>\n",
       "    <tr>\n",
       "      <th>1</th>\n",
       "      <td>a835b697-2beb-1ba8-e053-2995a90a470c</td>\n",
       "      <td>The following serious adverse reactions are de...</td>\n",
       "      <td>NaN</td>\n",
       "    </tr>\n",
       "    <tr>\n",
       "      <th>2</th>\n",
       "      <td>a837f13e-fafc-0535-e053-2995a90a5070</td>\n",
       "      <td>ADVERSE REACTIONS Clinical Trials Experience I...</td>\n",
       "      <td>NaN</td>\n",
       "    </tr>\n",
       "    <tr>\n",
       "      <th>3</th>\n",
       "      <td>a838204b-9564-9aa6-e053-2a95a90af02f</td>\n",
       "      <td>ADVERSE REACTIONS Clinical Trials Experience I...</td>\n",
       "      <td>NaN</td>\n",
       "    </tr>\n",
       "    <tr>\n",
       "      <th>4</th>\n",
       "      <td>f265e6dd-f47e-4511-9468-282184bcd1b1</td>\n",
       "      <td>The most common adverse reactions leading to d...</td>\n",
       "      <td>NaN</td>\n",
       "    </tr>\n",
       "  </tbody>\n",
       "</table>\n",
       "</div>"
      ],
      "text/plain": [
       "                                  SetID  \\\n",
       "0  a834d1cf-72fc-93bf-e053-2995a90a6191   \n",
       "1  a835b697-2beb-1ba8-e053-2995a90a470c   \n",
       "2  a837f13e-fafc-0535-e053-2995a90a5070   \n",
       "3  a838204b-9564-9aa6-e053-2a95a90af02f   \n",
       "4  f265e6dd-f47e-4511-9468-282184bcd1b1   \n",
       "\n",
       "                                   Adverse Reactions  Summary  \n",
       "0  The following adverse events were observed and...      NaN  \n",
       "1  The following serious adverse reactions are de...      NaN  \n",
       "2  ADVERSE REACTIONS Clinical Trials Experience I...      NaN  \n",
       "3  ADVERSE REACTIONS Clinical Trials Experience I...      NaN  \n",
       "4  The most common adverse reactions leading to d...      NaN  "
      ]
     },
     "execution_count": 3,
     "metadata": {},
     "output_type": "execute_result"
    }
   ],
   "source": [
    "df.head()"
   ]
  },
  {
   "cell_type": "code",
   "execution_count": 4,
   "metadata": {},
   "outputs": [
    {
     "data": {
      "text/plain": [
       "990"
      ]
     },
     "execution_count": 4,
     "metadata": {},
     "output_type": "execute_result"
    }
   ],
   "source": [
    "len(df)"
   ]
  },
  {
   "cell_type": "code",
   "execution_count": 23,
   "metadata": {},
   "outputs": [],
   "source": [
    "df = df[df['Adverse Reactions'].notnull()]\n",
    "df = df[df['Adverse Reactions'] != \"ERROR1\"]\n",
    "df = df[df['Adverse Reactions'] != \"Adverse Reactions\"]"
   ]
  },
  {
   "cell_type": "code",
   "execution_count": 24,
   "metadata": {},
   "outputs": [
    {
     "data": {
      "text/plain": [
       "989"
      ]
     },
     "execution_count": 24,
     "metadata": {},
     "output_type": "execute_result"
    }
   ],
   "source": [
    "len(df)"
   ]
  },
  {
   "cell_type": "code",
   "execution_count": 26,
   "metadata": {},
   "outputs": [],
   "source": [
    "sentences = []\n",
    "\n",
    "for sentence in df['Adverse Reactions']:\n",
    "    sentences.append(sent_tokenize(sentence))\n",
    "    "
   ]
  },
  {
   "cell_type": "code",
   "execution_count": 30,
   "metadata": {},
   "outputs": [],
   "source": [
    "df['sentences'] = sentences"
   ]
  },
  {
   "cell_type": "code",
   "execution_count": 31,
   "metadata": {},
   "outputs": [
    {
     "data": {
      "text/html": [
       "<div>\n",
       "<style scoped>\n",
       "    .dataframe tbody tr th:only-of-type {\n",
       "        vertical-align: middle;\n",
       "    }\n",
       "\n",
       "    .dataframe tbody tr th {\n",
       "        vertical-align: top;\n",
       "    }\n",
       "\n",
       "    .dataframe thead th {\n",
       "        text-align: right;\n",
       "    }\n",
       "</style>\n",
       "<table border=\"1\" class=\"dataframe\">\n",
       "  <thead>\n",
       "    <tr style=\"text-align: right;\">\n",
       "      <th></th>\n",
       "      <th>SetID</th>\n",
       "      <th>Adverse Reactions</th>\n",
       "      <th>Summary</th>\n",
       "      <th>sentences</th>\n",
       "    </tr>\n",
       "  </thead>\n",
       "  <tbody>\n",
       "    <tr>\n",
       "      <th>0</th>\n",
       "      <td>a834d1cf-72fc-93bf-e053-2995a90a6191</td>\n",
       "      <td>The following adverse events were observed and...</td>\n",
       "      <td>NaN</td>\n",
       "      <td>[The following adverse events were observed an...</td>\n",
       "    </tr>\n",
       "    <tr>\n",
       "      <th>1</th>\n",
       "      <td>a835b697-2beb-1ba8-e053-2995a90a470c</td>\n",
       "      <td>The following serious adverse reactions are de...</td>\n",
       "      <td>NaN</td>\n",
       "      <td>[The following serious adverse reactions are d...</td>\n",
       "    </tr>\n",
       "    <tr>\n",
       "      <th>2</th>\n",
       "      <td>a837f13e-fafc-0535-e053-2995a90a5070</td>\n",
       "      <td>ADVERSE REACTIONS Clinical Trials Experience I...</td>\n",
       "      <td>NaN</td>\n",
       "      <td>[ADVERSE REACTIONS Clinical Trials Experience ...</td>\n",
       "    </tr>\n",
       "    <tr>\n",
       "      <th>3</th>\n",
       "      <td>a838204b-9564-9aa6-e053-2a95a90af02f</td>\n",
       "      <td>ADVERSE REACTIONS Clinical Trials Experience I...</td>\n",
       "      <td>NaN</td>\n",
       "      <td>[ADVERSE REACTIONS Clinical Trials Experience ...</td>\n",
       "    </tr>\n",
       "    <tr>\n",
       "      <th>4</th>\n",
       "      <td>f265e6dd-f47e-4511-9468-282184bcd1b1</td>\n",
       "      <td>The most common adverse reactions leading to d...</td>\n",
       "      <td>NaN</td>\n",
       "      <td>[The most common adverse reactions leading to ...</td>\n",
       "    </tr>\n",
       "  </tbody>\n",
       "</table>\n",
       "</div>"
      ],
      "text/plain": [
       "                                  SetID  \\\n",
       "0  a834d1cf-72fc-93bf-e053-2995a90a6191   \n",
       "1  a835b697-2beb-1ba8-e053-2995a90a470c   \n",
       "2  a837f13e-fafc-0535-e053-2995a90a5070   \n",
       "3  a838204b-9564-9aa6-e053-2a95a90af02f   \n",
       "4  f265e6dd-f47e-4511-9468-282184bcd1b1   \n",
       "\n",
       "                                   Adverse Reactions  Summary  \\\n",
       "0  The following adverse events were observed and...      NaN   \n",
       "1  The following serious adverse reactions are de...      NaN   \n",
       "2  ADVERSE REACTIONS Clinical Trials Experience I...      NaN   \n",
       "3  ADVERSE REACTIONS Clinical Trials Experience I...      NaN   \n",
       "4  The most common adverse reactions leading to d...      NaN   \n",
       "\n",
       "                                           sentences  \n",
       "0  [The following adverse events were observed an...  \n",
       "1  [The following serious adverse reactions are d...  \n",
       "2  [ADVERSE REACTIONS Clinical Trials Experience ...  \n",
       "3  [ADVERSE REACTIONS Clinical Trials Experience ...  \n",
       "4  [The most common adverse reactions leading to ...  "
      ]
     },
     "execution_count": 31,
     "metadata": {},
     "output_type": "execute_result"
    }
   ],
   "source": [
    "df.head()"
   ]
  },
  {
   "cell_type": "code",
   "execution_count": null,
   "metadata": {},
   "outputs": [],
   "source": []
  },
  {
   "cell_type": "code",
   "execution_count": null,
   "metadata": {},
   "outputs": [],
   "source": []
  }
 ],
 "metadata": {
  "kernelspec": {
   "display_name": "Python 3",
   "language": "python",
   "name": "python3"
  },
  "language_info": {
   "codemirror_mode": {
    "name": "ipython",
    "version": 3
   },
   "file_extension": ".py",
   "mimetype": "text/x-python",
   "name": "python",
   "nbconvert_exporter": "python",
   "pygments_lexer": "ipython3",
   "version": "3.8.3"
  }
 },
 "nbformat": 4,
 "nbformat_minor": 4
}
